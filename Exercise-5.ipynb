{
 "cells": [
  {
   "attachments": {},
   "cell_type": "markdown",
   "id": "405947c1-e18a-4f54-85f4-0fb4ed4be612",
   "metadata": {},
   "source": [
    "## Hausaufgabe 4\n",
    "\n",
    "#### **Abgabe** <br> 16.06. 12:00 Uhr (via studIP) \n",
    "#### **Verteidigung** <br> 19.06. 08:00-10:00 Uhr, 19.06 16:00-18:00 Uhr oder 20.06. 10:00-12:00 Uhr\n",
    "\n",
    "Mit jedem Blatt können **maximal** 3 Prozentpunkte Bonus für die Klausur erreicht werden, falls:\n",
    "1) mind. 60% des Arbeitsblattes korrekt bearbeitet wurden \n",
    "2) das Arbeitsblatt erfolgreich verteidigt (den Tutoren erklärt) wurde.\n",
    "\n",
    "*Rahmenbedingungen*:\n",
    "- Jede Gruppe muss sich bei studIP für einen Slot zur Verteidigung registrieren. Nur EINE Person registriert einen Slot. Die ganze Gruppe muss zur Verteidigung erscheinen.\n",
    "- Erfolgreiche Verteidigung bedeutet, dass ein von uns ausgewähltes Team-Mitglied die Lösung erklärt und Fragen dazu beantwortet.\n",
    "- ChatGPT und andere Hilfsmittel dürfen verwendet werden, müssen aber zitiert werden.\n",
    "- Der Code muss ohne Hilfsmittel erläutert werden.\n",
    "- Wir bewerten nicht nur die Korrektheit der Ergebnisse, sondern auch ob der Code effizient, einfach zu verstehen, aufgeräumt und gut dokumentiert ist.\n",
    "- Jede Gruppe gibt nur eine Lösung als Zip-Datei ab, die mit dem Namen und der Matrikelnummer des Mitglieds versehen ist, welches sich für das Testat bei studIP eingetragen hat. Also z.B. `mustermann_12345678.zip`\n",
    "- Die Namen und Matrikelnummern aller Gruppenmitglieder bitte zudem hier angeben:\n",
    "  - Greta Guntermann 14327858\n",
    "  - Philipp Hellmund 12539796\n",
    "  - [Name Mitglied 3] [Matrikelnummer Mitglied 3]"
   ]
  },
  {
   "attachments": {},
   "cell_type": "markdown",
   "id": "c98c6db8-b47c-499d-a5a3-a57cf918f0a0",
   "metadata": {},
   "source": [
    "## Aufgabe 1\n",
    "**Achtung:** Manche Commands sind interaktiv. Daher empfehlen wir alle Anweisungen in einem separaten Terminal auszuführen und anschließend hier zu dokumentieren. \n",
    "\n",
    "**Achtung:** Wir wollen hier das Verwalten von Remote-Repositories, inklusive Forks und Pull-Requests üben. Da es nicht möglich ist sein eigenes Repository zu forken, müssen Sie entweder zwei Benutzer Konten haben (arbeitet in Gruppen) oder Sie legen das Remote-Repository in einer Organisation an (siehe [hier](https://docs.github.com/en/organizations/collaborating-with-groups-in-organizations/creating-a-new-organization-from-scratch)) und forken das Repository dann mit ihrem eigenen Account.  \n",
    "\n",
    "Die Finale Abgabe sollte das gesamte Git-Repository (den Ordner inklusive des versteckten Unterordners `.git` und den Link zu GitHub) beinhalten, welches zeigt dass Sie alle Befehle korrekt ausgeführt haben."
   ]
  },
  {
   "attachments": {},
   "cell_type": "markdown",
   "id": "f8e2ed09-bdc7-4846-812b-a90a6da9711e",
   "metadata": {},
   "source": [
    "#### a) [2.5%] \n",
    "- Erstellen Sie ein neues lokales Repository \n",
    "- Legen Sie die Dateien `mergesort.py` und `to_be_ignored.txt` in das Repository und commiten Sie sie."
   ]
  },
  {
   "cell_type": "code",
   "execution_count": 73,
   "id": "e9ea1105",
   "metadata": {},
   "outputs": [
    {
     "name": "stdout",
     "output_type": "stream",
     "text": [
      "Reinitialized existing Git repository in /Users/greta/Documents/Universität/Uni Gö/Semester VI/Data Science I /Testat4/.git/\n",
      "[main fcbc3cd] add mergesort.py and to_be_ignored.txt\n",
      " 2 files changed, 24 insertions(+), 16 deletions(-)\n",
      " create mode 100644 to_be_ignored.txt\n"
     ]
    }
   ],
   "source": [
    "!git init # repository anlegen\n",
    "\n",
    "# dateien zum repository hinzufügen\n",
    "!git add mergesort.py \n",
    "!git add -f to_be_ignored.txt #-f force\n",
    "\n",
    "# commiten\n",
    "!git commit -m \"add mergesort.py and to_be_ignored.txt\" # -m für message"
   ]
  },
  {
   "attachments": {},
   "cell_type": "markdown",
   "id": "23b63840-7c4d-40cd-9fe2-c51a869fc0ec",
   "metadata": {},
   "source": [
    "#### b) [5%]\n",
    "- Erstellen Sie eine `.gitignore` Datei (siehe [hier](https://github.com/github/gitignore) für Beispiele von nützlichen gitignore Vorlagen). \n",
    "- Fügen Sie `to_be_ignored.txt` zur `.gitignore` hinzu und entfernen Sie sie aus der Git-Historie."
   ]
  },
  {
   "cell_type": "code",
   "execution_count": 74,
   "id": "62f99fbe",
   "metadata": {},
   "outputs": [
    {
     "name": "stdout",
     "output_type": "stream",
     "text": [
      "rm 'to_be_ignored.txt'\n",
      "[main 8b6afa3] add .gitignore and remove to_be_ignored.txt\n",
      " 1 file changed, 1 deletion(-)\n",
      " delete mode 100644 to_be_ignored.txt\n"
     ]
    }
   ],
   "source": [
    "# datei zur .gitignore hinzufügen\n",
    "!echo \"to_be_ignored.txt\" > .gitignore\n",
    "\n",
    "# datei entfernen aus der zwischenablage von git, aber nicht löschen\n",
    "!git rm --cached to_be_ignored.txt\n",
    "\n",
    "# .gitignore zur zwischeablage hinzufügen\n",
    "!git add .gitignore\n",
    "\n",
    "# committen\n",
    "!git commit -m \"add .gitignore and remove to_be_ignored.txt\""
   ]
  },
  {
   "attachments": {},
   "cell_type": "markdown",
   "id": "ab7a9d11-89eb-4716-8571-34766d4c976f",
   "metadata": {},
   "source": [
    "#### c) [15%]\n",
    "- Erstellen Sie einen neuen Branch (Feature Branch) und wechseln Sie anschließend zu diesem.\n",
    "- Bereinigen Sie die Datei `mergesort.py`, um die Regeln für sauberen Code zu befolgen, die wir in der Vorlesung aufgestellt haben. \n",
    "- Versuchen Sie auch, den Code zu verstehen (siehe z.B. [hier](https://www.happycoders.eu/de/algorithmen/mergesort/) für eine Erklärung des Algorithmus) und dokumentieren Sie den Code.\n",
    "- Seine Funktionalität sollte sich nicht ändern!\n",
    "- Es sollte mindestens 7 Punkte geben, die zu verbessern sind.\n",
    "- Commiten Sie Ihre Änderungen. "
   ]
  },
  {
   "cell_type": "code",
   "execution_count": 75,
   "id": "75e295c5",
   "metadata": {},
   "outputs": [
    {
     "name": "stdout",
     "output_type": "stream",
     "text": [
      "Switched to a new branch 'feature-clean-code'\n",
      "On branch feature-clean-code\n",
      "Changes not staged for commit:\n",
      "  (use \"git add <file>...\" to update what will be committed)\n",
      "  (use \"git restore <file>...\" to discard changes in working directory)\n",
      "\t\u001b[31mmodified:   .DS_Store\u001b[m\n",
      "\t\u001b[31mmodified:   Exercise-5.ipynb\u001b[m\n",
      "\n",
      "Untracked files:\n",
      "  (use \"git add <file>...\" to include in what will be committed)\n",
      "\t\u001b[31m2b_find_unique.py\u001b[m\n",
      "\t\u001b[31m2c_Dockerfile\u001b[m\n",
      "\t\u001b[31m2c_requirements.txt\u001b[m\n",
      "\t\u001b[31m2d_docker-compose.yml\u001b[m\n",
      "\t\u001b[31m__pycache__/\u001b[m\n",
      "\t\u001b[31mrun_unique.py\u001b[m\n",
      "\t\u001b[31mtest_2a_even_length.py\u001b[m\n",
      "\t\u001b[31mtest_2a_negative_numbers.py\u001b[m\n",
      "\t\u001b[31mtest_2a_non_integer.py\u001b[m\n",
      "\t\u001b[31mtest_2a_non_list.py\u001b[m\n",
      "\t\u001b[31mtest_2a_single_element.py\u001b[m\n",
      "\t\u001b[31mtest_2a_typical_case.py\u001b[m\n",
      "\t\u001b[31mtest_2d_libraries_installed.py\u001b[m\n",
      "\t\u001b[31mtest_find_unique.cpython-39-pytest-7.1.1.pyc\u001b[m\n",
      "\t\u001b[31mtest_find_unique.py\u001b[m\n",
      "\n",
      "no changes added to commit (use \"git add\" and/or \"git commit -a\")\n"
     ]
    }
   ],
   "source": [
    "#datei umbenennen und brach wechslen (nicht nötig, aber so entsteht kein error)\n",
    "!mv Exercise-5.ipynb Exercise-5.backup.ipynb\n",
    "!git checkout -b feature-clean-code #-b branch\n",
    "#datei wieder nach altem namen benennen \n",
    "!mv Exercise-5.backup.ipynb Exercise-5.ipynb\n",
    "\n",
    "# mergesort verändert und zur zwischenablage hinzufügen\n",
    "!git add mergesort.py\n",
    "\n",
    "# committen \n",
    "!git commit -m \"cleaned mergesort.py\"\n"
   ]
  },
  {
   "attachments": {},
   "cell_type": "markdown",
   "id": "1c131abc-c1b0-4b97-ac37-04abad5f5e99",
   "metadata": {},
   "source": [
    "#### d) [5%]\n",
    "- Erstellen Sie ein neues Repository auf GitHub (machen Sie es public). \n",
    "- Richten Sie eine ssh-Verifizierung für Ihr GitHub-Konto ein. \n",
    "- Fügen Sie die ssh-Adresse Ihres Repositorys als neues remote Repository zu Ihrem lokalen Repository hinzu.  "
   ]
  },
  {
   "cell_type": "code",
   "execution_count": 76,
   "id": "be3b9797",
   "metadata": {},
   "outputs": [
    {
     "name": "stdout",
     "output_type": "stream",
     "text": [
      "error: remote origin already exists.\n",
      "Enumerating objects: 8, done.\n",
      "Counting objects: 100% (8/8), done.\n",
      "Delta compression using up to 8 threads\n",
      "Compressing objects: 100% (5/5), done.\n",
      "Writing objects: 100% (6/6), 1.08 KiB | 1.08 MiB/s, done.\n",
      "Total 6 (delta 3), reused 0 (delta 0), pack-reused 0\n",
      "remote: Resolving deltas: 100% (3/3), completed with 2 local objects.\u001b[K\n",
      "To github.com:greta-testat/mergesort-project.git\n",
      "   268d8a9..8b6afa3  feature-clean-code -> feature-clean-code\n",
      "branch 'feature-clean-code' set up to track 'origin/feature-clean-code'.\n"
     ]
    }
   ],
   "source": [
    "# hinzugfügen von remote repository origin \n",
    "!git remote add origin git@github.com:greta-testat/mergesort-project.git\n",
    "# aktueller branch wird auf neues repo gepusht\n",
    "!git push -u origin feature-clean-code\n",
    "# -u verknüpft lokalen branch mit remote branch"
   ]
  },
  {
   "attachments": {},
   "cell_type": "markdown",
   "id": "5a03706d-c986-48c9-9207-2ff59770b7f4",
   "metadata": {},
   "source": [
    "#### e) [2.5%]\n",
    "- Wechseln Sie zurück zum `main` Branch.\n",
    "- Pushen Sie in Ihr remote Repository"
   ]
  },
  {
   "cell_type": "code",
   "execution_count": 77,
   "id": "fe7c6a6e",
   "metadata": {},
   "outputs": [
    {
     "name": "stdout",
     "output_type": "stream",
     "text": [
      "M\t.DS_Store\n",
      "M\tExercise-5.ipynb\n",
      "Switched to branch 'main'\n",
      "Your branch is ahead of 'origin/main' by 2 commits.\n",
      "  (use \"git push\" to publish your local commits)\n",
      "Total 0 (delta 0), reused 0 (delta 0), pack-reused 0\n",
      "To github.com:greta-testat/mergesort-project.git\n",
      "   268d8a9..8b6afa3  main -> main\n",
      "branch 'main' set up to track 'origin/main'.\n"
     ]
    }
   ],
   "source": [
    "# zurückwechseln zum main branch\n",
    "!git checkout main\n",
    "#pusht main branch\n",
    "!git push -u origin main\n",
    "\n"
   ]
  },
  {
   "attachments": {},
   "cell_type": "markdown",
   "id": "6d91483e-0a00-4fba-958d-fea707fd47e2",
   "metadata": {},
   "source": [
    "#### f) [5%]\n",
    "- Ändern Sie den Plotting-Teil von `mergesort.py` so, dass er die in der Vorlesung festgelegten Standards widerspiegelt. (Versuchen Sie auch zu überlegen, was die beste Art Plot für diese Daten sein könnte.)\n",
    "- Commiten Sie es und pushen Sie es in das remote Repository."
   ]
  },
  {
   "cell_type": "code",
   "execution_count": 78,
   "id": "f848a061",
   "metadata": {},
   "outputs": [
    {
     "name": "stdout",
     "output_type": "stream",
     "text": [
      "On branch main\n",
      "Your branch is up to date with 'origin/main'.\n",
      "\n",
      "Changes not staged for commit:\n",
      "  (use \"git add <file>...\" to update what will be committed)\n",
      "  (use \"git restore <file>...\" to discard changes in working directory)\n",
      "\t\u001b[31mmodified:   .DS_Store\u001b[m\n",
      "\t\u001b[31mmodified:   Exercise-5.ipynb\u001b[m\n",
      "\n",
      "Untracked files:\n",
      "  (use \"git add <file>...\" to include in what will be committed)\n",
      "\t\u001b[31m2b_find_unique.py\u001b[m\n",
      "\t\u001b[31m2c_Dockerfile\u001b[m\n",
      "\t\u001b[31m2c_requirements.txt\u001b[m\n",
      "\t\u001b[31m2d_docker-compose.yml\u001b[m\n",
      "\t\u001b[31m__pycache__/\u001b[m\n",
      "\t\u001b[31mrun_unique.py\u001b[m\n",
      "\t\u001b[31mtest_2a_even_length.py\u001b[m\n",
      "\t\u001b[31mtest_2a_negative_numbers.py\u001b[m\n",
      "\t\u001b[31mtest_2a_non_integer.py\u001b[m\n",
      "\t\u001b[31mtest_2a_non_list.py\u001b[m\n",
      "\t\u001b[31mtest_2a_single_element.py\u001b[m\n",
      "\t\u001b[31mtest_2a_typical_case.py\u001b[m\n",
      "\t\u001b[31mtest_2d_libraries_installed.py\u001b[m\n",
      "\t\u001b[31mtest_find_unique.cpython-39-pytest-7.1.1.pyc\u001b[m\n",
      "\t\u001b[31mtest_find_unique.py\u001b[m\n",
      "\n",
      "no changes added to commit (use \"git add\" and/or \"git commit -a\")\n",
      "Everything up-to-date\n"
     ]
    }
   ],
   "source": [
    "# mergesort zur zwischenablage hinzufügen\n",
    "!git add mergesort.py\n",
    "\n",
    "# commiten\n",
    "!git commit -m \"improve plotting\"\n",
    "\n",
    "# änerungen ins remote repo pushen\n",
    "!git push origin main\n"
   ]
  },
  {
   "attachments": {},
   "cell_type": "markdown",
   "id": "3f4d7088-60b8-41b5-9806-114839f8e8cb",
   "metadata": {},
   "source": [
    "#### g) [2.5%]\n",
    " - Wechseln Sie zurück zum Feature Branch. \n",
    " - Erstellen Sie einen Fork des remote Repositorys auf GitHub. **Dies muss durch einen anderen Benutzer geschehen, falls das original Repository nicht zu einer Organisation gehört!**  \n",
    " - Fügen Sie den Fork als weiteres remote Repository zu Ihrem lokalen Repository hinzu. \n",
    " - Pushen Sie Ihren lokalen Branch in den Fork und erstellen Sie einen Pull-Request auf GitHub."
   ]
  },
  {
   "cell_type": "code",
   "execution_count": 79,
   "id": "36d55c11",
   "metadata": {},
   "outputs": [
    {
     "name": "stdout",
     "output_type": "stream",
     "text": [
      "error: remote fork already exists.\n",
      "Everything up-to-date\n"
     ]
    }
   ],
   "source": [
    "# auf github fork, also kopie, erstellen\n",
    "# fork repo als remote hinzufügen \n",
    "!git remote add fork git@github.com:greta-testat/mergesort-project.git\n",
    "# feature in den fork pushen \n",
    "!git push fork feature-clean-code\n"
   ]
  },
  {
   "attachments": {},
   "cell_type": "markdown",
   "id": "6d9dbf98-3ea2-4b7f-8b8b-eb4526784c28",
   "metadata": {},
   "source": [
    "#### h) [10%]\n",
    "- Der Pull-Request sollte anzeigen, dass es Konflikte gibt. \n",
    "- Mergen Sie den `main`-Branch (lokal auf Ihrem Computer) in Ihren Feature-Branch ein (nicht umgekehrt!) und lösen Sie die Konflikte.\n",
    "- Pushen Sie Ihren Feature-Branch wieder in Ihren Fork und mergen Sie den Pull-Request."
   ]
  },
  {
   "cell_type": "code",
   "execution_count": 80,
   "id": "2248a9a7",
   "metadata": {},
   "outputs": [
    {
     "name": "stdout",
     "output_type": "stream",
     "text": [
      "M\t.DS_Store\n",
      "M\tExercise-5.ipynb\n",
      "Switched to branch 'feature-clean-code'\n",
      "Your branch is up to date with 'origin/feature-clean-code'.\n",
      "Already up to date.\n",
      "On branch feature-clean-code\n",
      "Your branch is up to date with 'origin/feature-clean-code'.\n",
      "\n",
      "Changes not staged for commit:\n",
      "  (use \"git add <file>...\" to update what will be committed)\n",
      "  (use \"git restore <file>...\" to discard changes in working directory)\n",
      "\t\u001b[31mmodified:   .DS_Store\u001b[m\n",
      "\t\u001b[31mmodified:   Exercise-5.ipynb\u001b[m\n",
      "\n",
      "Untracked files:\n",
      "  (use \"git add <file>...\" to include in what will be committed)\n",
      "\t\u001b[31m2b_find_unique.py\u001b[m\n",
      "\t\u001b[31m2c_Dockerfile\u001b[m\n",
      "\t\u001b[31m2c_requirements.txt\u001b[m\n",
      "\t\u001b[31m2d_docker-compose.yml\u001b[m\n",
      "\t\u001b[31m__pycache__/\u001b[m\n",
      "\t\u001b[31mrun_unique.py\u001b[m\n",
      "\t\u001b[31mtest_2a_even_length.py\u001b[m\n",
      "\t\u001b[31mtest_2a_negative_numbers.py\u001b[m\n",
      "\t\u001b[31mtest_2a_non_integer.py\u001b[m\n",
      "\t\u001b[31mtest_2a_non_list.py\u001b[m\n",
      "\t\u001b[31mtest_2a_single_element.py\u001b[m\n",
      "\t\u001b[31mtest_2a_typical_case.py\u001b[m\n",
      "\t\u001b[31mtest_2d_libraries_installed.py\u001b[m\n",
      "\t\u001b[31mtest_find_unique.cpython-39-pytest-7.1.1.pyc\u001b[m\n",
      "\t\u001b[31mtest_find_unique.py\u001b[m\n",
      "\n",
      "no changes added to commit (use \"git add\" and/or \"git commit -a\")\n",
      "Everything up-to-date\n"
     ]
    }
   ],
   "source": [
    "# zum feature branch wechseln\n",
    "!git checkout feature-clean-code\n",
    "# aktuelles vom origin repo laden\n",
    "!git fetch origin\n",
    "#merge änderungen von main aus origin\n",
    "!git merge origin/main\n",
    "\n",
    "# bei fehlermeldung (wir hatten keine)\n",
    "#!git add <veränderte-dateien>\n",
    "\n",
    "#commiten und pushen \n",
    "!git commit -m \"merge main into feature and resolve conflicts\"\n",
    "!git push fork feature-clean-code\n"
   ]
  },
  {
   "attachments": {},
   "cell_type": "markdown",
   "id": "8f690324-815f-4e2e-807b-3e6f87f483dd",
   "metadata": {},
   "source": [
    "#### i) [2.5%]\n",
    "- Wechseln Sie zurück zum \"main\"-Branch und pullen Sie aus dem remote Repository.\n",
    "- Löschen Sie den lokalen Feature-Branch (er ist ja bereits im main Branch)."
   ]
  },
  {
   "cell_type": "code",
   "execution_count": 81,
   "id": "677abe5f",
   "metadata": {},
   "outputs": [
    {
     "name": "stdout",
     "output_type": "stream",
     "text": [
      "M\t.DS_Store\n",
      "M\tExercise-5.ipynb\n",
      "Switched to branch 'main'\n",
      "Your branch is up to date with 'origin/main'.\n",
      "From github.com:greta-testat/mergesort-project\n",
      " * branch            main       -> FETCH_HEAD\n",
      "Already up to date.\n",
      "Deleted branch feature-clean-code (was 8b6afa3).\n"
     ]
    }
   ],
   "source": [
    "# zum main branch wechseln\n",
    "!git checkout main\n",
    "# änderungen vom origin laden und zu main hinzufügen \n",
    "!git pull origin main\n",
    "# feature branch löschen\n",
    "!git branch -D feature-clean-code #-D force delete\n"
   ]
  },
  {
   "attachments": {},
   "cell_type": "markdown",
   "id": "d44e4b00-95cf-4be3-8b46-90d53bfad0aa",
   "metadata": {},
   "source": [
    "Zeigen Sie ihre Git-Historie an:"
   ]
  },
  {
   "cell_type": "code",
   "execution_count": 82,
   "id": "b4db096d-eeaf-442e-8620-6b76bb4f33eb",
   "metadata": {},
   "outputs": [
    {
     "name": "stdout",
     "output_type": "stream",
     "text": [
      "\u001b[33mcommit 8b6afa317f6fb2cd11d87077274c5b7543ab0cd6\u001b[m\u001b[33m (\u001b[m\u001b[1;36mHEAD -> \u001b[m\u001b[1;32mmain\u001b[m\u001b[33m, \u001b[m\u001b[1;31morigin/main\u001b[m\u001b[33m, \u001b[m\u001b[1;31morigin/feature-clean-code\u001b[m\u001b[33m, \u001b[m\u001b[1;31mfork/feature-clean-code\u001b[m\u001b[33m)\u001b[m\n",
      "Author: Greta Guntermann <greta.guntermann@stud.uni-goettingen.de>\n",
      "Date:   Sun Jun 15 23:44:12 2025 +0200\n",
      "\n",
      "    add .gitignore and remove to_be_ignored.txt\n",
      "\n",
      "\u001b[33mcommit fcbc3cdf33aa9ab8d9e04c4f512786a443d90cb6\u001b[m\n",
      "Author: Greta Guntermann <greta.guntermann@stud.uni-goettingen.de>\n",
      "Date:   Sun Jun 15 23:44:10 2025 +0200\n",
      "\n",
      "    add mergesort.py and to_be_ignored.txt\n",
      "\n",
      "\u001b[33mcommit 268d8a990898c37b6e089e873be56ac2a36937c8\u001b[m\n",
      "Author: Greta Guntermann <greta.guntermann@stud.uni-goettingen.de>\n",
      "Date:   Sun Jun 15 19:42:53 2025 +0200\n",
      "\n",
      "    add .gitignore and remove to_be_ignored.txt\n",
      "\n",
      "\u001b[33mcommit b129408a35dd9ed6aa1878275baa1583f54cef4f\u001b[m\n",
      "Author: Greta Guntermann <greta.guntermann@stud.uni-goettingen.de>\n",
      "Date:   Sun Jun 15 19:42:47 2025 +0200\n",
      "\n",
      "    add mergesort.py and to_be_ignored.txt\n",
      "\n",
      "\u001b[33mcommit 9fa310a1f9ede8f2965e3988595468745e069b96\u001b[m\n",
      "Author: Greta Guntermann <greta.guntermann@stud.uni-goettingen.de>\n",
      "Date:   Sun Jun 15 19:38:34 2025 +0200\n",
      "\n",
      "    add .gitignore and remove to_be_ignored.txt\n",
      "\n",
      "\u001b[33mcommit 364f298f6db37335d77478738523ef95ea80cd34\u001b[m\n",
      "Author: Greta Guntermann <greta.guntermann@stud.uni-goettingen.de>\n",
      "Date:   Sun Jun 15 19:38:26 2025 +0200\n",
      "\n",
      "    add mergesort.py and to_be_ignored.txt\n",
      "\n",
      "\u001b[33mcommit 480f6fd9a311a090888b796fc7387a283707a4bc\u001b[m\n",
      "Merge: fff6d6d 38bc6a3\n",
      "Author: Greta <116739366+gretaagu@users.noreply.github.com>\n",
      "Date:   Sat Jun 14 21:19:34 2025 +0200\n",
      "\n",
      "    Merge pull request #1 from greta-testat/feature-clean-code\n",
      "    \n",
      "    Initial commit: mergesort and ignore file added\n",
      "\n",
      "\u001b[33mcommit fff6d6dda7ae6fd0f05102db99b3c3224c6ecff8\u001b[m\n",
      "Author: Greta Guntermann <greta.guntermann@stud.uni-goettingen.de>\n",
      "Date:   Sat Jun 14 21:12:24 2025 +0200\n",
      "\n",
      "    Improve plotting according to lecture standards\n",
      "\n",
      "\u001b[33mcommit 3f16bb60db3a3f8e2e5b20455ff23e0ad251f331\u001b[m\n",
      "Author: Greta Guntermann <greta.guntermann@stud.uni-goettingen.de>\n",
      "Date:   Sat Jun 14 21:01:36 2025 +0200\n",
      "\n",
      "    Cleaned mergesort.py: improve code style and add documentation\n",
      "\n",
      "\u001b[33mcommit 3b187d25cd715b3e930add5a758de3312fdb183c\u001b[m\n",
      "Author: Greta Guntermann <greta.guntermann@stud.uni-goettingen.de>\n",
      "Date:   Sat Jun 14 20:46:58 2025 +0200\n",
      "\n",
      "    Add .gitignore and remove to_be_ignored.txt from tracking\n",
      "\n",
      "\u001b[33mcommit 52eaf939eae800cd6bee2c4dcc6c5ee44a59ce99\u001b[m\n",
      "Author: Greta Guntermann <greta.guntermann@stud.uni-goettingen.de>\n",
      "Date:   Sat Jun 14 20:46:07 2025 +0200\n",
      "\n",
      "    Initial commit: mergesort.py and to_be_ignored.txt added\n",
      "\n",
      "\u001b[33mcommit ff926b00f1a6cd21e086931992af16838a09969f\u001b[m\n",
      "Author: Greta Guntermann <greta.guntermann@stud.uni-goettingen.de>\n",
      "Date:   Fri Jun 13 13:37:04 2025 +0200\n",
      "\n",
      "    Improve plotting according to lecture standards\n",
      "\n",
      "\u001b[33mcommit 38bc6a306078f18c9f5e3cf374b61dc9103201ef\u001b[m\n",
      "Author: Greta Guntermann <greta.guntermann@stud.uni-goettingen.de>\n",
      "Date:   Fri Jun 13 10:21:56 2025 +0200\n",
      "\n",
      "    Initial commit: mergesort and ignore file added\n",
      "\n",
      "\u001b[33mcommit 854edfff056f447c8e0e6d6e7a0e71f44e752f51\u001b[m\n",
      "Author: Greta Guntermann <greta.guntermann@stud.uni-goettingen.de>\n",
      "Date:   Fri Jun 13 09:59:27 2025 +0200\n",
      "\n",
      "    Add .gitignore and remove to_be_ignored.txt from tracking\n",
      "\n",
      "\u001b[33mcommit ffe4732990ee3c51ed06fbe420da678fe8721390\u001b[m\n",
      "Author: Greta Guntermann <greta.guntermann@stud.uni-goettingen.de>\n",
      "Date:   Fri Jun 13 09:59:26 2025 +0200\n",
      "\n",
      "    Initial commit with mergesort.py and to_be_ignored.txt\n"
     ]
    }
   ],
   "source": [
    "!git log"
   ]
  },
  {
   "attachments": {},
   "cell_type": "markdown",
   "id": "2932b317-11a9-4cfd-9757-519c0cd4a396",
   "metadata": {},
   "source": [
    "## Aufgabe 2"
   ]
  },
  {
   "attachments": {},
   "cell_type": "markdown",
   "id": "39e88314-ea52-4e2a-a106-41e006e64b29",
   "metadata": {},
   "source": [
    "Betrachten Sie die folgende Aufgabe:\n",
    "\n",
    "Gegeben ist ein Array von Intergern in dem alle Elemente außer eins genau zweimal vorkommen, finden Sie das einzelne Element.\n",
    "\n",
    "Beispiel: `[1,2,3,4,3,1,2]`\n",
    "\n",
    "Das einzelne Element ist: `4`\n",
    "\n",
    "Sie können annehmen, dass der Array ungerade Länge hat und es nur ein Element gibt, das nur genau einmal vorkommt.\n",
    "\n",
    "Hinweis: Die folgenden Aufgaben müssen nicht notwendigerweise in Reihenfolge bearbeitet werden.\n"
   ]
  },
  {
   "attachments": {},
   "cell_type": "markdown",
   "id": "1be8bfc4-a31b-49ee-8ceb-f8c8daa863de",
   "metadata": {},
   "source": [
    "#### a) [15%] Schreiben Sie test-Fälle für die oben beschrieben Aufgabe. \n",
    "(Mind. 5 Testfälle nötig!) \n",
    "Denken Sie an mögliche Randfälle und ungültige Eingaben.\n",
    "\n",
    "**Benutzen sie `pytest` und schreiben Sie die Tests in separate Dateien.**"
   ]
  },
  {
   "attachments": {},
   "cell_type": "markdown",
   "id": "1a6141b7-2f71-4ff2-8dfe-55e837ee512e",
   "metadata": {},
   "source": [
    "#### b) [10%] Basierend auf den test-Fällen, schreiben Sie eine Methode welche den Task erfolgreich (und effizient) löst."
   ]
  },
  {
   "attachments": {},
   "cell_type": "markdown",
   "id": "fe34d47b-87c5-4b09-9971-afa77a183380",
   "metadata": {},
   "source": [
    "Die Methode soll ebenfalls in eine separate Datei geschrieben werden."
   ]
  },
  {
   "attachments": {},
   "cell_type": "markdown",
   "id": "4af37373-85a5-4e27-96a9-0c093f56a2c8",
   "metadata": {},
   "source": [
    "#### c) [10%] Schreiben Sie ein Docker-File welches `numpy`, `pandas`, `matplotlib` und `seaborn` installiert. "
   ]
  },
  {
   "attachments": {},
   "cell_type": "markdown",
   "id": "4101f101-6a16-4308-add4-f4dc94ec8a9c",
   "metadata": {},
   "source": [
    "#### d) [15%] Schreiben Sie eine Docker-compose Datei, welche zwei verschiedene Services anbietet:\n",
    "\n",
    "1. Alle Tests durchlaufen lassen.\n",
    "2. Die Methode für einen gegebenen Input laufen lassen.\n",
    "\n",
    "Stellen Sie auch sicher, dass der Container das Verzeichnis mit Ihren Skripten mountet, sodass Sie Zugriff auf die aktuelle Version Ihres Codes haben.\n",
    "\n",
    "Demonstrieren Sie in einem Test auch, dass die angegebenen Libraries aus c) erfolgreich installiert sind."
   ]
  },
  {
   "cell_type": "code",
   "execution_count": 83,
   "id": "feb8fb48-b980-4e0f-8c16-1373e375c63b",
   "metadata": {},
   "outputs": [
    {
     "name": "stdout",
     "output_type": "stream",
     "text": [
      "unable to get image 'testat4-test_runner': Cannot connect to the Docker daemon at unix:///Users/greta/.docker/run/docker.sock. Is the docker daemon running?\n"
     ]
    }
   ],
   "source": [
    "!docker compose -f 2d_docker-compose.yml up --build test_runner\n",
    "\n"
   ]
  }
 ],
 "metadata": {
  "kernelspec": {
   "display_name": "Python 3",
   "language": "python",
   "name": "python3"
  },
  "language_info": {
   "codemirror_mode": {
    "name": "ipython",
    "version": 3
   },
   "file_extension": ".py",
   "mimetype": "text/x-python",
   "name": "python",
   "nbconvert_exporter": "python",
   "pygments_lexer": "ipython3",
   "version": "3.12.3"
  }
 },
 "nbformat": 4,
 "nbformat_minor": 5
}
